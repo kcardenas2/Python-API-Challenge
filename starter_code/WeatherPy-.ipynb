{
 "cells": [
  {
   "cell_type": "markdown",
   "metadata": {},
   "source": [
    "# WeatherPy\n",
    "----\n",
    "\n",
    "#### Note\n",
    "* Instructions have been included for each segment. You do not have to follow them exactly, but they are included to help you think through the steps."
   ]
  },
  {
   "cell_type": "code",
   "execution_count": 1,
   "metadata": {
    "scrolled": true
   },
   "outputs": [],
   "source": [
    "# Dependencies and Setup\n",
    "import matplotlib.pyplot as plt\n",
    "import pandas as pd\n",
    "import numpy as np\n",
    "import requests\n",
    "import time\n",
    "from scipy.stats import linregress\n",
    "\n",
    "# Import API key\n",
    "from api_keys import weather_api_key\n",
    "\n",
    "# Incorporated citipy to determine city based on latitude and longitude\n",
    "from citipy import citipy\n",
    "\n",
    "# Output File (CSV)\n",
    "output_data_file = \"output_data/cities.csv\"\n",
    "\n",
    "# Range of latitudes and longitudes\n",
    "lat_range = (-90, 90)\n",
    "lng_range = (-180, 180)"
   ]
  },
  {
   "cell_type": "markdown",
   "metadata": {},
   "source": [
    "## Generate Cities List"
   ]
  },
  {
   "cell_type": "code",
   "execution_count": 2,
   "metadata": {},
   "outputs": [
    {
     "data": {
      "text/plain": [
       "614"
      ]
     },
     "execution_count": 2,
     "metadata": {},
     "output_type": "execute_result"
    }
   ],
   "source": [
    "# List for holding lat_lngs and cities\n",
    "lat_lngs = []\n",
    "cities = []\n",
    "\n",
    "# Create a set of random lat and lng combinations\n",
    "lats = np.random.uniform(lat_range[0], lat_range[1], size=1500)\n",
    "lngs = np.random.uniform(lng_range[0], lng_range[1], size=1500)\n",
    "lat_lngs = zip(lats, lngs)\n",
    "\n",
    "# Identify nearest city for each lat, lng combination\n",
    "for lat_lng in lat_lngs:\n",
    "    city = citipy.nearest_city(lat_lng[0], lat_lng[1]).city_name\n",
    "    \n",
    "    # If the city is unique, then add it to a our cities list\n",
    "    if city not in cities:\n",
    "        cities.append(city)\n",
    "\n",
    "# Print the city count to confirm sufficient count\n",
    "len(cities)"
   ]
  },
  {
   "cell_type": "markdown",
   "metadata": {},
   "source": [
    "### Perform API Calls\n",
    "* Perform a weather check on each city using a series of successive API calls.\n",
    "* Include a print log of each city as it'sbeing processed (with the city number and city name).\n"
   ]
  },
  {
   "cell_type": "code",
   "execution_count": 3,
   "metadata": {},
   "outputs": [],
   "source": [
    "# # Creat URL.\n",
    "# url =\"http://api.openweathermap.org/data/2.5/weather?units=Imperial&APPID=\" + weather_api_key\n",
    "\n",
    "\n",
    "\n",
    "\n",
    "# Create row to process down the list\n",
    "row_counter = 1\n",
    "# Create a dictionary with parameters using api\n",
    "params = {\"appid\": weather_api_key, \n",
    "          \"units\": \"imperial\"}\n",
    "# Call the input URL\n",
    "url = \"http://api.openweathermap.org/data/2.5/weather?\"\n",
    "# Create query url\n",
    "query_url = f\"{url}appid={params['appid']}&units={params['units']}&q=\""
   ]
  },
  {
   "cell_type": "code",
   "execution_count": 4,
   "metadata": {
    "scrolled": false
   },
   "outputs": [
    {
     "name": "stdout",
     "output_type": "stream",
     "text": [
      "Beginning Data Retrieval\n",
      "------------------------------\n",
      "Processing Record 1 of Set 1 | mutsu\n",
      "Processing Record 2 of Set 1 | vaini\n",
      "Processing Record 3 of Set 1 | bluff\n",
      "Processing Record 4 of Set 1 | abu kamal\n",
      "Processing Record 5 of Set 1 | cape town\n",
      "Processing Record 6 of Set 1 | college\n",
      "Processing Record 7 of Set 1 | port macquarie\n",
      "Processing Record 8 of Set 1 | east london\n",
      "Processing Record 9 of Set 1 | longyearbyen\n",
      "Processing Record 10 of Set 1 | ancud\n",
      "Processing Record 11 of Set 1 | bilma\n",
      "Processing Record 12 of Set 1 | jibuti\n",
      "Processing Record 13 of Set 1 | sao filipe\n",
      "Processing Record 14 of Set 1 | mataura\n",
      "Processing Record 15 of Set 1 | tiksi\n",
      "Processing Record 16 of Set 1 | rikitea\n",
      "Processing Record 17 of Set 1 | butaritari\n",
      "Processing Record 18 of Set 1 | takoradi\n",
      "Processing Record 19 of Set 1 | medea\n",
      "Processing Record 20 of Set 1 | north myrtle beach\n",
      "City not found. Skipping...\n",
      "Processing Record 21 of Set 1 | bend\n",
      "City not found. Skipping...\n",
      "Processing Record 22 of Set 1 | solnechnyy\n",
      "Processing Record 23 of Set 1 | ubud\n",
      "Processing Record 24 of Set 1 | flinders\n",
      "Processing Record 25 of Set 1 | nogent-le-rotrou\n",
      "Processing Record 26 of Set 1 | hobart\n",
      "Processing Record 27 of Set 1 | qaanaaq\n",
      "Processing Record 28 of Set 1 | klaksvik\n",
      "Processing Record 29 of Set 1 | hattiesburg\n",
      "Processing Record 30 of Set 1 | busselton\n",
      "Processing Record 31 of Set 1 | upernavik\n",
      "Processing Record 32 of Set 1 | hibbing\n",
      "Processing Record 33 of Set 1 | hilo\n",
      "Processing Record 34 of Set 1 | siuna\n",
      "Processing Record 35 of Set 1 | puerto rondon\n",
      "Processing Record 36 of Set 1 | carnarvon\n",
      "Processing Record 37 of Set 1 | namatanai\n",
      "Processing Record 38 of Set 1 | filadelfia\n",
      "Processing Record 39 of Set 1 | luganville\n",
      "Processing Record 40 of Set 1 | saskylakh\n",
      "Processing Record 41 of Set 1 | katherine\n",
      "Processing Record 42 of Set 1 | barrow\n",
      "Processing Record 43 of Set 1 | cidreira\n",
      "Processing Record 44 of Set 1 | punta arenas\n",
      "Processing Record 45 of Set 1 | albany\n",
      "City not found. Skipping...\n",
      "Processing Record 46 of Set 1 | lavrentiya\n",
      "Processing Record 47 of Set 1 | atuona\n",
      "Processing Record 48 of Set 1 | avarua\n",
      "Processing Record 49 of Set 1 | kieta\n",
      "Processing Record 1 of Set 2 | rio grande\n",
      "Processing Record 2 of Set 2 | ushuaia\n",
      "Processing Record 3 of Set 2 | montlucon\n",
      "Processing Record 4 of Set 2 | puerto ayora\n",
      "Processing Record 5 of Set 2 | fort nelson\n",
      "Processing Record 6 of Set 2 | nikolskoye\n",
      "Processing Record 7 of Set 2 | tarko-sale\n",
      "Processing Record 8 of Set 2 | clyde river\n",
      "Processing Record 9 of Set 2 | mayo\n",
      "Processing Record 10 of Set 2 | jamestown\n",
      "Processing Record 11 of Set 2 | bambous virieux\n",
      "Processing Record 12 of Set 2 | chuy\n",
      "Processing Record 13 of Set 2 | balgazyn\n",
      "Processing Record 14 of Set 2 | statesboro\n",
      "Processing Record 15 of Set 2 | tsiroanomandidy\n",
      "Processing Record 16 of Set 2 | leshukonskoye\n",
      "Processing Record 17 of Set 2 | shingu\n",
      "Processing Record 18 of Set 2 | saint-philippe\n",
      "Processing Record 19 of Set 2 | bredasdorp\n",
      "Processing Record 20 of Set 2 | bethel\n",
      "Processing Record 21 of Set 2 | longonjo\n",
      "Processing Record 22 of Set 2 | qianan\n",
      "Processing Record 23 of Set 2 | ostersund\n",
      "Processing Record 24 of Set 2 | kalmunai\n",
      "Processing Record 25 of Set 2 | lorengau\n",
      "Processing Record 26 of Set 2 | lompoc\n",
      "Processing Record 27 of Set 2 | sechura\n",
      "Processing Record 28 of Set 2 | tuktoyaktuk\n",
      "Processing Record 29 of Set 2 | richards bay\n",
      "Processing Record 30 of Set 2 | anadyr\n",
      "Processing Record 31 of Set 2 | vila franca do campo\n",
      "City not found. Skipping...\n",
      "Processing Record 32 of Set 2 | yar-sale\n",
      "Processing Record 33 of Set 2 | male\n",
      "Processing Record 34 of Set 2 | ormara\n",
      "Processing Record 35 of Set 2 | port hedland\n",
      "Processing Record 36 of Set 2 | arraial do cabo\n",
      "Processing Record 37 of Set 2 | aksarayskiy\n",
      "Processing Record 38 of Set 2 | bilaspur\n",
      "Processing Record 39 of Set 2 | hearst\n",
      "Processing Record 40 of Set 2 | hirara\n",
      "Processing Record 41 of Set 2 | dikson\n",
      "Processing Record 42 of Set 2 | yaan\n",
      "Processing Record 43 of Set 2 | tasiilaq\n",
      "Processing Record 44 of Set 2 | georgetown\n",
      "Processing Record 45 of Set 2 | port alfred\n",
      "Processing Record 46 of Set 2 | hithadhoo\n",
      "Processing Record 47 of Set 2 | provideniya\n",
      "Processing Record 48 of Set 2 | taian\n",
      "Processing Record 49 of Set 2 | carutapera\n",
      "Processing Record 1 of Set 3 | thabazimbi\n",
      "Processing Record 2 of Set 3 | husavik\n",
      "Processing Record 3 of Set 3 | fare\n",
      "Processing Record 4 of Set 3 | kaitangata\n",
      "Processing Record 5 of Set 3 | lebu\n",
      "Processing Record 6 of Set 3 | yellowknife\n",
      "Processing Record 7 of Set 3 | bonavista\n",
      "City not found. Skipping...\n",
      "Processing Record 8 of Set 3 | carsamba\n",
      "Processing Record 9 of Set 3 | karratha\n",
      "Processing Record 10 of Set 3 | kawalu\n",
      "City not found. Skipping...\n",
      "Processing Record 11 of Set 3 | pittsfield\n",
      "Processing Record 12 of Set 3 | kruisfontein\n",
      "Processing Record 13 of Set 3 | vigrestad\n",
      "Processing Record 14 of Set 3 | sao luiz gonzaga\n",
      "City not found. Skipping...\n",
      "Processing Record 15 of Set 3 | warmbad\n",
      "Processing Record 16 of Set 3 | taoudenni\n",
      "Processing Record 17 of Set 3 | kodiak\n",
      "Processing Record 18 of Set 3 | yasenskaya\n",
      "City not found. Skipping...\n",
      "Processing Record 19 of Set 3 | miri\n",
      "Processing Record 20 of Set 3 | torbay\n",
      "Processing Record 21 of Set 3 | oriximina\n",
      "Processing Record 22 of Set 3 | ballina\n",
      "Processing Record 23 of Set 3 | vanimo\n",
      "Processing Record 24 of Set 3 | talnakh\n",
      "Processing Record 25 of Set 3 | cristalina\n",
      "Processing Record 26 of Set 3 | cayenne\n",
      "Processing Record 27 of Set 3 | gumdag\n",
      "Processing Record 28 of Set 3 | willowmore\n",
      "Processing Record 29 of Set 3 | bilibino\n",
      "Processing Record 30 of Set 3 | muros\n",
      "Processing Record 31 of Set 3 | hit\n",
      "City not found. Skipping...\n",
      "Processing Record 32 of Set 3 | sutysky\n",
      "Processing Record 33 of Set 3 | chase\n",
      "Processing Record 34 of Set 3 | porto novo\n",
      "Processing Record 35 of Set 3 | alice springs\n",
      "Processing Record 36 of Set 3 | kayasula\n",
      "Processing Record 37 of Set 3 | angoram\n",
      "Processing Record 38 of Set 3 | cherskiy\n",
      "Processing Record 39 of Set 3 | banjar\n",
      "City not found. Skipping...\n",
      "Processing Record 40 of Set 3 | machiques\n",
      "Processing Record 41 of Set 3 | majene\n",
      "Processing Record 42 of Set 3 | pangnirtung\n",
      "Processing Record 43 of Set 3 | oranjemund\n",
      "Processing Record 44 of Set 3 | cobija\n",
      "Processing Record 45 of Set 3 | alofi\n",
      "Processing Record 46 of Set 3 | ponta do sol\n",
      "Processing Record 47 of Set 3 | abakaliki\n",
      "Processing Record 48 of Set 3 | mys shmidta\n",
      "Processing Record 49 of Set 3 | howell\n",
      "Processing Record 1 of Set 4 | warwick\n",
      "Processing Record 2 of Set 4 | laguna\n",
      "Processing Record 3 of Set 4 | margate\n",
      "Processing Record 4 of Set 4 | whitehorse\n",
      "Processing Record 5 of Set 4 | mar del plata\n",
      "Processing Record 6 of Set 4 | balkanabat\n",
      "Processing Record 7 of Set 4 | grand river south east\n",
      "Processing Record 8 of Set 4 | mogok\n",
      "Processing Record 9 of Set 4 | port shepstone\n",
      "Processing Record 10 of Set 4 | ilulissat\n",
      "Processing Record 11 of Set 4 | okhotsk\n",
      "Processing Record 12 of Set 4 | rocha\n",
      "Processing Record 13 of Set 4 | flin flon\n",
      "Processing Record 14 of Set 4 | codrington\n",
      "Processing Record 15 of Set 4 | superior\n",
      "Processing Record 16 of Set 4 | acapulco\n",
      "Processing Record 17 of Set 4 | belmonte\n",
      "Processing Record 18 of Set 4 | dingzhou\n",
      "Processing Record 19 of Set 4 | dariba\n",
      "City not found. Skipping...\n",
      "City not found. Skipping...\n",
      "Processing Record 20 of Set 4 | port hardy\n",
      "Processing Record 21 of Set 4 | dunedin\n",
      "Processing Record 22 of Set 4 | khatanga\n",
      "Processing Record 23 of Set 4 | ayr\n",
      "City not found. Skipping...\n",
      "City not found. Skipping...\n",
      "Processing Record 24 of Set 4 | puerto colombia\n",
      "Processing Record 25 of Set 4 | teahupoo\n",
      "Processing Record 26 of Set 4 | christchurch\n",
      "Processing Record 27 of Set 4 | castro\n",
      "Processing Record 28 of Set 4 | birao\n",
      "Processing Record 29 of Set 4 | erenhot\n",
      "Processing Record 30 of Set 4 | sim\n",
      "Processing Record 31 of Set 4 | acarau\n",
      "Processing Record 32 of Set 4 | chipinge\n",
      "Processing Record 33 of Set 4 | bad bramstedt\n",
      "Processing Record 34 of Set 4 | nara\n",
      "Processing Record 35 of Set 4 | ribeira grande\n",
      "Processing Record 36 of Set 4 | komsomolskiy\n",
      "Processing Record 37 of Set 4 | harper\n",
      "Processing Record 38 of Set 4 | lerwick\n",
      "Processing Record 39 of Set 4 | kemijarvi\n",
      "Processing Record 40 of Set 4 | tigil\n",
      "City not found. Skipping...\n",
      "Processing Record 41 of Set 4 | nabire\n"
     ]
    },
    {
     "name": "stdout",
     "output_type": "stream",
     "text": [
      "Processing Record 42 of Set 4 | hurghada\n",
      "Processing Record 43 of Set 4 | dingle\n",
      "Processing Record 44 of Set 4 | mercedes\n",
      "Processing Record 45 of Set 4 | sola\n",
      "Processing Record 46 of Set 4 | xining\n",
      "Processing Record 47 of Set 4 | nome\n",
      "Processing Record 48 of Set 4 | new norfolk\n",
      "Processing Record 49 of Set 4 | tongliao\n",
      "Processing Record 1 of Set 5 | beloha\n",
      "Processing Record 2 of Set 5 | guerrero negro\n",
      "Processing Record 3 of Set 5 | kahului\n",
      "Processing Record 4 of Set 5 | lagarto\n",
      "Processing Record 5 of Set 5 | kapit\n",
      "Processing Record 6 of Set 5 | kanniyakumari\n",
      "Processing Record 7 of Set 5 | okha\n",
      "Processing Record 8 of Set 5 | winneba\n",
      "Processing Record 9 of Set 5 | constitucion\n",
      "Processing Record 10 of Set 5 | lima\n",
      "City not found. Skipping...\n",
      "Processing Record 11 of Set 5 | cururupu\n",
      "Processing Record 12 of Set 5 | kuah\n",
      "City not found. Skipping...\n",
      "City not found. Skipping...\n",
      "Processing Record 13 of Set 5 | hermanus\n",
      "City not found. Skipping...\n",
      "Processing Record 14 of Set 5 | nemuro\n",
      "Processing Record 15 of Set 5 | thompson\n",
      "Processing Record 16 of Set 5 | fort saint john\n",
      "Processing Record 17 of Set 5 | graham\n",
      "Processing Record 18 of Set 5 | gandhidham\n",
      "City not found. Skipping...\n",
      "Processing Record 19 of Set 5 | pevek\n",
      "Processing Record 20 of Set 5 | wyndham\n",
      "Processing Record 21 of Set 5 | lazdijai\n",
      "Processing Record 22 of Set 5 | fortuna\n",
      "Processing Record 23 of Set 5 | zhovtneve\n",
      "Processing Record 24 of Set 5 | borba\n",
      "Processing Record 25 of Set 5 | araceli\n",
      "Processing Record 26 of Set 5 | almeirim\n",
      "Processing Record 27 of Set 5 | mount isa\n",
      "Processing Record 28 of Set 5 | norwich\n",
      "Processing Record 29 of Set 5 | talara\n",
      "City not found. Skipping...\n",
      "Processing Record 30 of Set 5 | kapaa\n",
      "Processing Record 31 of Set 5 | vaitape\n",
      "Processing Record 32 of Set 5 | santa eulalia del rio\n",
      "Processing Record 33 of Set 5 | adrar\n",
      "Processing Record 34 of Set 5 | sheopur\n",
      "Processing Record 35 of Set 5 | marawi\n",
      "Processing Record 36 of Set 5 | bubaque\n",
      "Processing Record 37 of Set 5 | narsaq\n",
      "City not found. Skipping...\n",
      "Processing Record 38 of Set 5 | sioux lookout\n",
      "Processing Record 39 of Set 5 | fukue\n",
      "Processing Record 40 of Set 5 | salta\n",
      "Processing Record 41 of Set 5 | osa\n",
      "Processing Record 42 of Set 5 | geraldton\n",
      "Processing Record 43 of Set 5 | turukhansk\n",
      "Processing Record 44 of Set 5 | narathiwat\n",
      "Processing Record 45 of Set 5 | deputatskiy\n",
      "Processing Record 46 of Set 5 | puerto cabezas\n",
      "Processing Record 47 of Set 5 | faya\n",
      "Processing Record 48 of Set 5 | nanortalik\n",
      "Processing Record 49 of Set 5 | westport\n",
      "Processing Record 1 of Set 6 | saldanha\n",
      "City not found. Skipping...\n",
      "City not found. Skipping...\n",
      "Processing Record 2 of Set 6 | scarborough\n",
      "Processing Record 3 of Set 6 | port elizabeth\n",
      "Processing Record 4 of Set 6 | chokurdakh\n",
      "Processing Record 5 of Set 6 | melville\n",
      "Processing Record 6 of Set 6 | abu samrah\n",
      "Processing Record 7 of Set 6 | sibu\n",
      "Processing Record 8 of Set 6 | sterling\n",
      "Processing Record 9 of Set 6 | namibe\n",
      "City not found. Skipping...\n",
      "Processing Record 10 of Set 6 | nouadhibou\n",
      "Processing Record 11 of Set 6 | salalah\n",
      "Processing Record 12 of Set 6 | lakatoro\n",
      "City not found. Skipping...\n",
      "Processing Record 13 of Set 6 | santa flavia\n",
      "Processing Record 14 of Set 6 | buraydah\n",
      "Processing Record 15 of Set 6 | praia da vitoria\n",
      "Processing Record 16 of Set 6 | marzuq\n",
      "Processing Record 17 of Set 6 | coquimbo\n",
      "Processing Record 18 of Set 6 | tungor\n",
      "Processing Record 19 of Set 6 | shalya\n",
      "Processing Record 20 of Set 6 | vao\n",
      "Processing Record 21 of Set 6 | fairbanks\n",
      "Processing Record 22 of Set 6 | qidong\n",
      "Processing Record 23 of Set 6 | ussel\n",
      "Processing Record 24 of Set 6 | bireun\n",
      "Processing Record 25 of Set 6 | young\n",
      "Processing Record 26 of Set 6 | springdale\n",
      "Processing Record 27 of Set 6 | severo-kurilsk\n",
      "Processing Record 28 of Set 6 | ambulu\n",
      "Processing Record 29 of Set 6 | fandriana\n",
      "Processing Record 30 of Set 6 | san isidro\n",
      "Processing Record 31 of Set 6 | kreminna\n",
      "Processing Record 32 of Set 6 | jalingo\n",
      "Processing Record 33 of Set 6 | puerto leguizamo\n",
      "Processing Record 34 of Set 6 | mineral wells\n",
      "Processing Record 35 of Set 6 | hargeysa\n",
      "Processing Record 36 of Set 6 | taseyevo\n",
      "Processing Record 37 of Set 6 | seoul\n",
      "Processing Record 38 of Set 6 | chiman\n",
      "Processing Record 39 of Set 6 | alta floresta\n",
      "Processing Record 40 of Set 6 | bathsheba\n",
      "Processing Record 41 of Set 6 | touros\n",
      "Processing Record 42 of Set 6 | maarianhamina\n",
      "Processing Record 43 of Set 6 | hamilton\n",
      "Processing Record 44 of Set 6 | moranbah\n",
      "Processing Record 45 of Set 6 | west bay\n",
      "Processing Record 46 of Set 6 | airai\n",
      "City not found. Skipping...\n",
      "Processing Record 47 of Set 6 | miraflores\n",
      "Processing Record 48 of Set 6 | san juan bautista\n",
      "Processing Record 49 of Set 6 | sao felix do xingu\n",
      "Processing Record 1 of Set 7 | mahebourg\n",
      "Processing Record 2 of Set 7 | florianopolis\n",
      "Processing Record 3 of Set 7 | cockburn town\n",
      "Processing Record 4 of Set 7 | santa isabel do rio negro\n",
      "Processing Record 5 of Set 7 | olinda\n",
      "Processing Record 6 of Set 7 | comodoro rivadavia\n",
      "City not found. Skipping...\n",
      "Processing Record 7 of Set 7 | grodkow\n",
      "City not found. Skipping...\n",
      "Processing Record 8 of Set 7 | ketchikan\n",
      "Processing Record 9 of Set 7 | bud\n",
      "City not found. Skipping...\n",
      "Processing Record 10 of Set 7 | merrill\n",
      "Processing Record 11 of Set 7 | coahuayana\n",
      "Processing Record 12 of Set 7 | pilar\n",
      "Processing Record 13 of Set 7 | itaituba\n",
      "Processing Record 14 of Set 7 | tiznit\n",
      "City not found. Skipping...\n",
      "Processing Record 15 of Set 7 | palmer\n",
      "Processing Record 16 of Set 7 | saint-francois\n",
      "Processing Record 17 of Set 7 | saint-augustin\n",
      "Processing Record 18 of Set 7 | luanda\n",
      "City not found. Skipping...\n",
      "Processing Record 19 of Set 7 | coaticook\n",
      "Processing Record 20 of Set 7 | hambantota\n",
      "Processing Record 21 of Set 7 | zhigansk\n",
      "City not found. Skipping...\n",
      "City not found. Skipping...\n",
      "Processing Record 22 of Set 7 | swan hill\n",
      "Processing Record 23 of Set 7 | pitimbu\n",
      "Processing Record 24 of Set 7 | auki\n",
      "Processing Record 25 of Set 7 | atasu\n",
      "Processing Record 26 of Set 7 | astana\n",
      "Processing Record 27 of Set 7 | barabai\n",
      "Processing Record 28 of Set 7 | moose factory\n",
      "Processing Record 29 of Set 7 | sangar\n",
      "Processing Record 30 of Set 7 | smithers\n",
      "Processing Record 31 of Set 7 | srikakulam\n",
      "Processing Record 32 of Set 7 | san cristobal\n",
      "Processing Record 33 of Set 7 | itarema\n",
      "Processing Record 34 of Set 7 | iwanai\n",
      "Processing Record 35 of Set 7 | angoche\n",
      "Processing Record 36 of Set 7 | atar\n",
      "Processing Record 37 of Set 7 | petatlan\n",
      "Processing Record 38 of Set 7 | udachnyy\n",
      "Processing Record 39 of Set 7 | sisimiut\n",
      "Processing Record 40 of Set 7 | sarkand\n",
      "City not found. Skipping...\n",
      "Processing Record 41 of Set 7 | san patricio\n",
      "Processing Record 42 of Set 7 | chifeng\n",
      "Processing Record 43 of Set 7 | chardara\n",
      "Processing Record 44 of Set 7 | tautira\n",
      "Processing Record 45 of Set 7 | faanui\n",
      "Processing Record 46 of Set 7 | muromtsevo\n",
      "Processing Record 47 of Set 7 | mudanya\n",
      "City not found. Skipping...\n",
      "Processing Record 48 of Set 7 | kharitonovo\n",
      "Processing Record 49 of Set 7 | luderitz\n",
      "Processing Record 1 of Set 8 | warrnambool\n",
      "City not found. Skipping...\n",
      "Processing Record 2 of Set 8 | dengfeng\n",
      "Processing Record 3 of Set 8 | jinan\n",
      "Processing Record 4 of Set 8 | carnduff\n",
      "Processing Record 5 of Set 8 | shimoda\n",
      "Processing Record 6 of Set 8 | huarmey\n",
      "City not found. Skipping...\n",
      "Processing Record 7 of Set 8 | hami\n",
      "Processing Record 8 of Set 8 | igarka\n",
      "Processing Record 9 of Set 8 | kvarkeno\n",
      "Processing Record 10 of Set 8 | chapada dos guimaraes\n",
      "Processing Record 11 of Set 8 | truckee\n",
      "Processing Record 12 of Set 8 | katobu\n",
      "Processing Record 13 of Set 8 | noyabrsk\n",
      "Processing Record 14 of Set 8 | kiboga\n",
      "Processing Record 15 of Set 8 | bonthe\n",
      "Processing Record 16 of Set 8 | hay river\n",
      "Processing Record 17 of Set 8 | port lincoln\n",
      "Processing Record 18 of Set 8 | saint-pierre\n",
      "Processing Record 19 of Set 8 | kamloops\n",
      "Processing Record 20 of Set 8 | shelburne\n",
      "Processing Record 21 of Set 8 | souillac\n",
      "Processing Record 22 of Set 8 | arman\n",
      "Processing Record 23 of Set 8 | matara\n",
      "Processing Record 24 of Set 8 | garissa\n",
      "Processing Record 25 of Set 8 | tiarei\n",
      "Processing Record 26 of Set 8 | vila velha\n",
      "Processing Record 27 of Set 8 | normandin\n",
      "Processing Record 28 of Set 8 | zeya\n",
      "Processing Record 29 of Set 8 | tuatapere\n"
     ]
    },
    {
     "name": "stdout",
     "output_type": "stream",
     "text": [
      "Processing Record 30 of Set 8 | baykit\n",
      "Processing Record 31 of Set 8 | becerril\n",
      "Processing Record 32 of Set 8 | kavieng\n",
      "Processing Record 33 of Set 8 | pandhana\n",
      "Processing Record 34 of Set 8 | morgantown\n",
      "Processing Record 35 of Set 8 | changping\n",
      "Processing Record 36 of Set 8 | naze\n",
      "Processing Record 37 of Set 8 | najran\n",
      "Processing Record 38 of Set 8 | mlonggo\n",
      "Processing Record 39 of Set 8 | qaqortoq\n",
      "City not found. Skipping...\n",
      "Processing Record 40 of Set 8 | kapiri mposhi\n",
      "Processing Record 41 of Set 8 | roma\n",
      "City not found. Skipping...\n",
      "Processing Record 42 of Set 8 | belyy yar\n",
      "Processing Record 43 of Set 8 | vardo\n",
      "Processing Record 44 of Set 8 | key largo\n",
      "Processing Record 45 of Set 8 | caravelas\n",
      "Processing Record 46 of Set 8 | dudinka\n",
      "Processing Record 47 of Set 8 | buala\n",
      "Processing Record 48 of Set 8 | belogorsk\n",
      "Processing Record 49 of Set 8 | meulaboh\n",
      "Processing Record 1 of Set 9 | cabo san lucas\n",
      "Processing Record 2 of Set 9 | ordynskoye\n",
      "City not found. Skipping...\n",
      "Processing Record 3 of Set 9 | palimbang\n",
      "Processing Record 4 of Set 9 | alugan\n",
      "City not found. Skipping...\n",
      "Processing Record 5 of Set 9 | katsuura\n",
      "Processing Record 6 of Set 9 | narasannapeta\n",
      "Processing Record 7 of Set 9 | portland\n",
      "Processing Record 8 of Set 9 | thinadhoo\n",
      "Processing Record 9 of Set 9 | krasnyy oktyabr\n",
      "Processing Record 10 of Set 9 | grand gaube\n",
      "Processing Record 11 of Set 9 | pacific grove\n",
      "Processing Record 12 of Set 9 | enshi\n",
      "Processing Record 13 of Set 9 | moindou\n",
      "Processing Record 14 of Set 9 | grand haven\n",
      "Processing Record 15 of Set 9 | monrovia\n",
      "Processing Record 16 of Set 9 | batagay-alyta\n",
      "Processing Record 17 of Set 9 | zykovo\n",
      "Processing Record 18 of Set 9 | sabzevar\n",
      "Processing Record 19 of Set 9 | tahta\n",
      "Processing Record 20 of Set 9 | muroto\n",
      "Processing Record 21 of Set 9 | gamba\n",
      "Processing Record 22 of Set 9 | buta\n",
      "Processing Record 23 of Set 9 | san nicolas\n",
      "Processing Record 24 of Set 9 | lilienthal\n",
      "Processing Record 25 of Set 9 | nyurba\n",
      "Processing Record 26 of Set 9 | mount gambier\n",
      "Processing Record 27 of Set 9 | grand centre\n",
      "Processing Record 28 of Set 9 | tura\n",
      "City not found. Skipping...\n",
      "Processing Record 29 of Set 9 | salinopolis\n",
      "Processing Record 30 of Set 9 | victoria\n",
      "Processing Record 31 of Set 9 | dwarka\n",
      "Processing Record 32 of Set 9 | afikpo\n",
      "City not found. Skipping...\n",
      "Processing Record 33 of Set 9 | isangel\n",
      "Processing Record 34 of Set 9 | spartanburg\n",
      "Processing Record 35 of Set 9 | dillon\n",
      "Processing Record 36 of Set 9 | kurilsk\n",
      "Processing Record 37 of Set 9 | boone\n",
      "Processing Record 38 of Set 9 | tera\n",
      "Processing Record 39 of Set 9 | jucas\n",
      "Processing Record 40 of Set 9 | imeni vorovskogo\n",
      "Processing Record 41 of Set 9 | san jose\n",
      "Processing Record 42 of Set 9 | santiago del estero\n",
      "Processing Record 43 of Set 9 | charters towers\n",
      "Processing Record 44 of Set 9 | douglas\n",
      "Processing Record 45 of Set 9 | cacequi\n",
      "City not found. Skipping...\n",
      "City not found. Skipping...\n",
      "Processing Record 46 of Set 9 | dondo\n",
      "Processing Record 47 of Set 9 | pecos\n",
      "Processing Record 48 of Set 9 | burnie\n",
      "Processing Record 49 of Set 9 | vostok\n",
      "City not found. Skipping...\n",
      "Processing Record 1 of Set 10 | tirumullaivasal\n",
      "Processing Record 2 of Set 10 | lensk\n",
      "Processing Record 3 of Set 10 | bose\n",
      "Processing Record 4 of Set 10 | aswan\n",
      "Processing Record 5 of Set 10 | byron bay\n",
      "Processing Record 6 of Set 10 | kokopo\n",
      "Processing Record 7 of Set 10 | bengkulu\n",
      "Processing Record 8 of Set 10 | lasa\n",
      "Processing Record 9 of Set 10 | dulce nombre de culmi\n",
      "Processing Record 10 of Set 10 | mogocha\n",
      "Processing Record 11 of Set 10 | xai-xai\n",
      "Processing Record 12 of Set 10 | oda\n",
      "Processing Record 13 of Set 10 | kindersley\n",
      "Processing Record 14 of Set 10 | trofors\n",
      "Processing Record 15 of Set 10 | asau\n",
      "City not found. Skipping...\n",
      "Processing Record 16 of Set 10 | badvel\n",
      "Processing Record 17 of Set 10 | inhambane\n",
      "Processing Record 18 of Set 10 | mazatlan\n",
      "Processing Record 19 of Set 10 | glamoc\n",
      "City not found. Skipping...\n",
      "Processing Record 20 of Set 10 | benjamin hill\n",
      "Processing Record 21 of Set 10 | haines junction\n",
      "City not found. Skipping...\n",
      "Processing Record 22 of Set 10 | kangaba\n",
      "Processing Record 23 of Set 10 | bexhill\n",
      "Processing Record 24 of Set 10 | adre\n",
      "Processing Record 25 of Set 10 | charkhari\n",
      "Processing Record 26 of Set 10 | awjilah\n",
      "Processing Record 27 of Set 10 | ayan\n",
      "Processing Record 28 of Set 10 | beauvais\n",
      "Processing Record 29 of Set 10 | linkou\n",
      "Processing Record 30 of Set 10 | kovdor\n",
      "Processing Record 31 of Set 10 | agua dulce\n",
      "City not found. Skipping...\n",
      "Processing Record 32 of Set 10 | iquique\n",
      "Processing Record 33 of Set 10 | leningradskiy\n",
      "Processing Record 34 of Set 10 | norman wells\n",
      "Processing Record 35 of Set 10 | plettenberg bay\n",
      "Processing Record 36 of Set 10 | wieliczka\n",
      "Processing Record 37 of Set 10 | puerto carreno\n",
      "City not found. Skipping...\n",
      "Processing Record 38 of Set 10 | launceston\n",
      "City not found. Skipping...\n",
      "City not found. Skipping...\n",
      "Processing Record 39 of Set 10 | alma\n",
      "Processing Record 40 of Set 10 | hualmay\n",
      "Processing Record 41 of Set 10 | vestmannaeyjar\n",
      "Processing Record 42 of Set 10 | nhulunbuy\n",
      "Processing Record 43 of Set 10 | alappuzha\n",
      "Processing Record 44 of Set 10 | serra talhada\n",
      "City not found. Skipping...\n",
      "Processing Record 45 of Set 10 | labuhan\n",
      "Processing Record 46 of Set 10 | rodrigues alves\n",
      "Processing Record 47 of Set 10 | bhuvanagiri\n",
      "Processing Record 48 of Set 10 | sumenep\n",
      "Processing Record 49 of Set 10 | aklavik\n",
      "Processing Record 1 of Set 11 | lata\n",
      "Processing Record 2 of Set 11 | petrozavodsk\n",
      "Processing Record 3 of Set 11 | poum\n",
      "Processing Record 4 of Set 11 | yangjiang\n",
      "Processing Record 5 of Set 11 | nunkini\n",
      "City not found. Skipping...\n",
      "Processing Record 6 of Set 11 | toul\n",
      "Processing Record 7 of Set 11 | bolobo\n",
      "Processing Record 8 of Set 11 | luocheng\n",
      "Processing Record 9 of Set 11 | brae\n",
      "Processing Record 10 of Set 11 | villefranche-de-rouergue\n",
      "Processing Record 11 of Set 11 | north platte\n",
      "Processing Record 12 of Set 11 | shunyi\n",
      "Processing Record 13 of Set 11 | olafsvik\n",
      "Processing Record 14 of Set 11 | rexburg\n",
      "Processing Record 15 of Set 11 | urcos\n",
      "Processing Record 16 of Set 11 | aldama\n",
      "Processing Record 17 of Set 11 | taman\n",
      "Processing Record 18 of Set 11 | maracaibo\n",
      "Processing Record 19 of Set 11 | sandovo\n",
      "Processing Record 20 of Set 11 | samarai\n",
      "Processing Record 21 of Set 11 | mezen\n",
      "Processing Record 22 of Set 11 | ust-maya\n",
      "Processing Record 23 of Set 11 | neuquen\n",
      "Processing Record 24 of Set 11 | penzance\n",
      "City not found. Skipping...\n",
      "Processing Record 25 of Set 11 | guarapari\n",
      "Processing Record 26 of Set 11 | borazjan\n",
      "Processing Record 27 of Set 11 | tateyama\n",
      "Processing Record 28 of Set 11 | caruray\n",
      "Processing Record 29 of Set 11 | eidsvag\n",
      "Processing Record 30 of Set 11 | gushikawa\n",
      "Processing Record 31 of Set 11 | yurga\n",
      "Processing Record 32 of Set 11 | sao joao da barra\n",
      "Processing Record 33 of Set 11 | queanbeyan\n",
      "Processing Record 34 of Set 11 | lyuban\n",
      "Processing Record 35 of Set 11 | soderhamn\n",
      "Processing Record 36 of Set 11 | rio gallegos\n",
      "Processing Record 37 of Set 11 | camana\n",
      "Processing Record 38 of Set 11 | manta\n",
      "Processing Record 39 of Set 11 | egvekinot\n",
      "Processing Record 40 of Set 11 | rorvik\n",
      "Processing Record 41 of Set 11 | aspindza\n",
      "Processing Record 42 of Set 11 | bukan\n",
      "Processing Record 43 of Set 11 | upata\n",
      "City not found. Skipping...\n",
      "Processing Record 44 of Set 11 | brody\n",
      "Processing Record 45 of Set 11 | nogliki\n",
      "Processing Record 46 of Set 11 | crawfordsville\n",
      "Processing Record 47 of Set 11 | sao jose da coroa grande\n",
      "Processing Record 48 of Set 11 | ouadda\n",
      "Processing Record 49 of Set 11 | bontang\n",
      "Processing Record 1 of Set 12 | irara\n",
      "City not found. Skipping...\n",
      "Processing Record 2 of Set 12 | prince rupert\n",
      "Processing Record 3 of Set 12 | merauke\n",
      "Processing Record 4 of Set 12 | china\n",
      "Processing Record 5 of Set 12 | arona\n",
      "Processing Record 6 of Set 12 | san rafael\n",
      "Processing Record 7 of Set 12 | mana\n",
      "Processing Record 8 of Set 12 | isla vista\n",
      "Processing Record 9 of Set 12 | esperance\n",
      "Processing Record 10 of Set 12 | kaspiyskiy\n",
      "Processing Record 11 of Set 12 | ostrovnoy\n",
      "Processing Record 12 of Set 12 | camrose\n",
      "Processing Record 13 of Set 12 | tessalit\n",
      "Processing Record 14 of Set 12 | punta alta\n",
      "Processing Record 15 of Set 12 | tilichiki\n",
      "Processing Record 16 of Set 12 | leeton\n",
      "Ending Data Retrieval\n",
      "------------------------------\n"
     ]
    }
   ],
   "source": [
    "# set lists for the dataframe\n",
    "city_outcome = []\n",
    "cloudiness = []\n",
    "dates = []\n",
    "humidities = []\n",
    "lats = []\n",
    "lngs = []\n",
    "max_temps = []\n",
    "wind_speeds = []\n",
    "countries = []\n",
    "\n",
    "# set initial count quantities for organization\n",
    "record_count = 0\n",
    "set_count = 1\n",
    "\n",
    "# loops for creating dataframe columns\n",
    "print(\"Beginning Data Retrieval\")\n",
    "print(\"------------------------------\")\n",
    "for city in cities:\n",
    "    try:\n",
    "        response = requests.get(query_url + city.replace(\" \",\"&\")).json()\n",
    "        cloudiness.append(response['clouds']['all'])\n",
    "        countries.append(response['sys']['country'])\n",
    "        dates.append(response['dt'])\n",
    "        humidities.append(response['main']['humidity'])\n",
    "        lats.append(response['coord']['lat'])\n",
    "        lngs.append(response['coord']['lon'])\n",
    "        max_temps.append(response['main']['temp_max'])\n",
    "        wind_speeds.append(response['wind']['speed'])\n",
    "        if record_count > 48:\n",
    "            record_count = 1\n",
    "            set_count += 1\n",
    "            city_outcome.append(city)\n",
    "        else:\n",
    "            record_count += 1\n",
    "            city_outcome.append(city)\n",
    "        print(f\"Processing Record {record_count} of Set {set_count} | {city}\")\n",
    "    except:\n",
    "        print(\"City not found. Skipping...\")\n",
    "    pass\n",
    "print(\"Ending Data Retrieval\")\n",
    "print(\"------------------------------\")        "
   ]
  },
  {
   "cell_type": "markdown",
   "metadata": {},
   "source": [
    "### Convert Raw Data to DataFrame\n",
    "* Export the city data into a .csv.\n",
    "* Display the DataFrame"
   ]
  },
  {
   "cell_type": "code",
   "execution_count": 8,
   "metadata": {},
   "outputs": [
    {
     "data": {
      "text/plain": [
       "City          555\n",
       "Cloudiness    555\n",
       "Country       555\n",
       "Date          555\n",
       "Humidity      555\n",
       "Lat           555\n",
       "Lng           555\n",
       "Max Temp      555\n",
       "Wind Speed    555\n",
       "dtype: int64"
      ]
     },
     "execution_count": 8,
     "metadata": {},
     "output_type": "execute_result"
    }
   ],
   "source": [
    "city_data ={\n",
    "    \"City\":city_outcome,\n",
    "    \"Cloudiness\":cloudiness,\n",
    "    \"Country\":countries,\n",
    "    \"Date\":dates,\n",
    "    \"Humidity\":humidities,\n",
    "    \"Lat\":lats,\n",
    "    \"Lng\":lngs,\n",
    "    \"Max Temp\":max_temps,\n",
    "    \"Wind Speed\":wind_speeds\n",
    "}\n",
    "\n",
    "\n",
    "\n",
    "weather_py = pd.DataFrame(city_data)\n",
    "weather_py.count()"
   ]
  },
  {
   "cell_type": "code",
   "execution_count": 9,
   "metadata": {},
   "outputs": [
    {
     "data": {
      "text/html": [
       "<div>\n",
       "<style scoped>\n",
       "    .dataframe tbody tr th:only-of-type {\n",
       "        vertical-align: middle;\n",
       "    }\n",
       "\n",
       "    .dataframe tbody tr th {\n",
       "        vertical-align: top;\n",
       "    }\n",
       "\n",
       "    .dataframe thead th {\n",
       "        text-align: right;\n",
       "    }\n",
       "</style>\n",
       "<table border=\"1\" class=\"dataframe\">\n",
       "  <thead>\n",
       "    <tr style=\"text-align: right;\">\n",
       "      <th></th>\n",
       "      <th>City</th>\n",
       "      <th>Cloudiness</th>\n",
       "      <th>Country</th>\n",
       "      <th>Date</th>\n",
       "      <th>Humidity</th>\n",
       "      <th>Lat</th>\n",
       "      <th>Lng</th>\n",
       "      <th>Max Temp</th>\n",
       "      <th>Wind Speed</th>\n",
       "    </tr>\n",
       "  </thead>\n",
       "  <tbody>\n",
       "    <tr>\n",
       "      <th>0</th>\n",
       "      <td>mutsu</td>\n",
       "      <td>76</td>\n",
       "      <td>JP</td>\n",
       "      <td>1627104786</td>\n",
       "      <td>75</td>\n",
       "      <td>41.2894</td>\n",
       "      <td>141.2169</td>\n",
       "      <td>84.00</td>\n",
       "      <td>9.69</td>\n",
       "    </tr>\n",
       "    <tr>\n",
       "      <th>1</th>\n",
       "      <td>vaini</td>\n",
       "      <td>20</td>\n",
       "      <td>TO</td>\n",
       "      <td>1627104787</td>\n",
       "      <td>89</td>\n",
       "      <td>-21.2000</td>\n",
       "      <td>-175.2000</td>\n",
       "      <td>78.96</td>\n",
       "      <td>3.44</td>\n",
       "    </tr>\n",
       "    <tr>\n",
       "      <th>2</th>\n",
       "      <td>bluff</td>\n",
       "      <td>78</td>\n",
       "      <td>NZ</td>\n",
       "      <td>1627104787</td>\n",
       "      <td>80</td>\n",
       "      <td>-46.6000</td>\n",
       "      <td>168.3333</td>\n",
       "      <td>47.97</td>\n",
       "      <td>6.73</td>\n",
       "    </tr>\n",
       "    <tr>\n",
       "      <th>3</th>\n",
       "      <td>abu kamal</td>\n",
       "      <td>33</td>\n",
       "      <td>IN</td>\n",
       "      <td>1627104788</td>\n",
       "      <td>56</td>\n",
       "      <td>24.6000</td>\n",
       "      <td>72.7000</td>\n",
       "      <td>79.34</td>\n",
       "      <td>4.43</td>\n",
       "    </tr>\n",
       "    <tr>\n",
       "      <th>4</th>\n",
       "      <td>cape town</td>\n",
       "      <td>100</td>\n",
       "      <td>CL</td>\n",
       "      <td>1627104788</td>\n",
       "      <td>92</td>\n",
       "      <td>-36.4130</td>\n",
       "      <td>-71.9028</td>\n",
       "      <td>36.82</td>\n",
       "      <td>1.21</td>\n",
       "    </tr>\n",
       "    <tr>\n",
       "      <th>...</th>\n",
       "      <td>...</td>\n",
       "      <td>...</td>\n",
       "      <td>...</td>\n",
       "      <td>...</td>\n",
       "      <td>...</td>\n",
       "      <td>...</td>\n",
       "      <td>...</td>\n",
       "      <td>...</td>\n",
       "      <td>...</td>\n",
       "    </tr>\n",
       "    <tr>\n",
       "      <th>550</th>\n",
       "      <td>camrose</td>\n",
       "      <td>17</td>\n",
       "      <td>CA</td>\n",
       "      <td>1627105012</td>\n",
       "      <td>52</td>\n",
       "      <td>53.0168</td>\n",
       "      <td>-112.8353</td>\n",
       "      <td>56.93</td>\n",
       "      <td>7.20</td>\n",
       "    </tr>\n",
       "    <tr>\n",
       "      <th>551</th>\n",
       "      <td>tessalit</td>\n",
       "      <td>72</td>\n",
       "      <td>ML</td>\n",
       "      <td>1627105012</td>\n",
       "      <td>41</td>\n",
       "      <td>20.1986</td>\n",
       "      <td>1.0114</td>\n",
       "      <td>86.02</td>\n",
       "      <td>10.89</td>\n",
       "    </tr>\n",
       "    <tr>\n",
       "      <th>552</th>\n",
       "      <td>punta alta</td>\n",
       "      <td>39</td>\n",
       "      <td>PH</td>\n",
       "      <td>1627105013</td>\n",
       "      <td>55</td>\n",
       "      <td>8.9897</td>\n",
       "      <td>125.3400</td>\n",
       "      <td>90.16</td>\n",
       "      <td>10.16</td>\n",
       "    </tr>\n",
       "    <tr>\n",
       "      <th>553</th>\n",
       "      <td>tilichiki</td>\n",
       "      <td>71</td>\n",
       "      <td>RU</td>\n",
       "      <td>1627105014</td>\n",
       "      <td>78</td>\n",
       "      <td>60.4667</td>\n",
       "      <td>166.1000</td>\n",
       "      <td>57.25</td>\n",
       "      <td>8.97</td>\n",
       "    </tr>\n",
       "    <tr>\n",
       "      <th>554</th>\n",
       "      <td>leeton</td>\n",
       "      <td>90</td>\n",
       "      <td>AU</td>\n",
       "      <td>1627105014</td>\n",
       "      <td>71</td>\n",
       "      <td>-34.5667</td>\n",
       "      <td>146.4000</td>\n",
       "      <td>55.89</td>\n",
       "      <td>19.57</td>\n",
       "    </tr>\n",
       "  </tbody>\n",
       "</table>\n",
       "<p>555 rows × 9 columns</p>\n",
       "</div>"
      ],
      "text/plain": [
       "           City  Cloudiness Country        Date  Humidity      Lat       Lng  \\\n",
       "0         mutsu          76      JP  1627104786        75  41.2894  141.2169   \n",
       "1         vaini          20      TO  1627104787        89 -21.2000 -175.2000   \n",
       "2         bluff          78      NZ  1627104787        80 -46.6000  168.3333   \n",
       "3     abu kamal          33      IN  1627104788        56  24.6000   72.7000   \n",
       "4     cape town         100      CL  1627104788        92 -36.4130  -71.9028   \n",
       "..          ...         ...     ...         ...       ...      ...       ...   \n",
       "550     camrose          17      CA  1627105012        52  53.0168 -112.8353   \n",
       "551    tessalit          72      ML  1627105012        41  20.1986    1.0114   \n",
       "552  punta alta          39      PH  1627105013        55   8.9897  125.3400   \n",
       "553   tilichiki          71      RU  1627105014        78  60.4667  166.1000   \n",
       "554      leeton          90      AU  1627105014        71 -34.5667  146.4000   \n",
       "\n",
       "     Max Temp  Wind Speed  \n",
       "0       84.00        9.69  \n",
       "1       78.96        3.44  \n",
       "2       47.97        6.73  \n",
       "3       79.34        4.43  \n",
       "4       36.82        1.21  \n",
       "..        ...         ...  \n",
       "550     56.93        7.20  \n",
       "551     86.02       10.89  \n",
       "552     90.16       10.16  \n",
       "553     57.25        8.97  \n",
       "554     55.89       19.57  \n",
       "\n",
       "[555 rows x 9 columns]"
      ]
     },
     "execution_count": 9,
     "metadata": {},
     "output_type": "execute_result"
    }
   ],
   "source": [
    "output_data_file = \"output_data/cities.csv\"\n",
    "weather_py"
   ]
  },
  {
   "cell_type": "code",
   "execution_count": 10,
   "metadata": {},
   "outputs": [
    {
     "data": {
      "text/html": [
       "<div>\n",
       "<style scoped>\n",
       "    .dataframe tbody tr th:only-of-type {\n",
       "        vertical-align: middle;\n",
       "    }\n",
       "\n",
       "    .dataframe tbody tr th {\n",
       "        vertical-align: top;\n",
       "    }\n",
       "\n",
       "    .dataframe thead th {\n",
       "        text-align: right;\n",
       "    }\n",
       "</style>\n",
       "<table border=\"1\" class=\"dataframe\">\n",
       "  <thead>\n",
       "    <tr style=\"text-align: right;\">\n",
       "      <th></th>\n",
       "      <th>City</th>\n",
       "      <th>Cloudiness</th>\n",
       "      <th>Country</th>\n",
       "      <th>Date</th>\n",
       "      <th>Humidity</th>\n",
       "      <th>Lat</th>\n",
       "      <th>Lng</th>\n",
       "      <th>Max Temp</th>\n",
       "      <th>Wind Speed</th>\n",
       "    </tr>\n",
       "  </thead>\n",
       "  <tbody>\n",
       "  </tbody>\n",
       "</table>\n",
       "</div>"
      ],
      "text/plain": [
       "Empty DataFrame\n",
       "Columns: [City, Cloudiness, Country, Date, Humidity, Lat, Lng, Max Temp, Wind Speed]\n",
       "Index: []"
      ]
     },
     "execution_count": 10,
     "metadata": {},
     "output_type": "execute_result"
    }
   ],
   "source": [
    "humidity_df=weather_py.loc[weather_py[\"Humidity\"] > 100]\n",
    "humidity_df"
   ]
  },
  {
   "cell_type": "markdown",
   "metadata": {},
   "source": [
    "## Inspect the data and remove the cities where the humidity > 100%.\n",
    "----\n",
    "Skip this step if there are no cities that have humidity > 100%. "
   ]
  },
  {
   "cell_type": "code",
   "execution_count": null,
   "metadata": {},
   "outputs": [],
   "source": []
  },
  {
   "cell_type": "code",
   "execution_count": 11,
   "metadata": {},
   "outputs": [],
   "source": [
    "#  Get the indices of cities that have humidity over 100%.\n"
   ]
  },
  {
   "cell_type": "code",
   "execution_count": 12,
   "metadata": {},
   "outputs": [],
   "source": [
    "# Make a new DataFrame equal to the city data to drop all humidity outliers by index.\n",
    "# Passing \"inplace=False\" will make a copy of the city_data DataFrame, which we call \"clean_city_data\".\n"
   ]
  },
  {
   "cell_type": "code",
   "execution_count": null,
   "metadata": {},
   "outputs": [],
   "source": [
    "\n"
   ]
  },
  {
   "cell_type": "markdown",
   "metadata": {},
   "source": [
    "## Plotting the Data\n",
    "* Use proper labeling of the plots using plot titles (including date of analysis) and axes labels.\n",
    "* Save the plotted figures as .pngs."
   ]
  },
  {
   "cell_type": "markdown",
   "metadata": {},
   "source": [
    "## Latitude vs. Temperature Plot"
   ]
  },
  {
   "cell_type": "code",
   "execution_count": 13,
   "metadata": {
    "scrolled": true
   },
   "outputs": [
    {
     "data": {
      "image/png": "[encoded data removed]",
      "text/plain": [
       "<Figure size 432x288 with 1 Axes>"
      ]
     },
     "metadata": {
      "needs_background": "light"
     },
     "output_type": "display_data"
    }
   ],
   "source": [
    "plt.scatter(weather_py[\"Lat\"],weather_py[\"Max Temp\"],edgecolors=\"black\",facecolors=\"blue\")\n",
    "plt.title(\"City Latitude vs. Max Temperature (04/01/20)\")\n",
    "plt.xlabel(\"Latitude\")\n",
    "plt.ylabel(\"Max Temperature (F)\")\n",
    "plt.grid (b=True,which=\"major\",axis=\"both\",linestyle=\"-\",color=\"lightgrey\")\n",
    "plt.savefig(\"Latitude vs. Temperature Plot.png\")\n",
    "plt.show()"
   ]
  },
  {
   "cell_type": "markdown",
   "metadata": {},
   "source": [
    "## Latitude vs. Humidity Plot"
   ]
  },
  {
   "cell_type": "code",
   "execution_count": 15,
   "metadata": {},
   "outputs": [
    {
     "data": {
      "image/png": "[encoded data removed]",
      "text/plain": [
       "<Figure size 432x288 with 1 Axes>"
      ]
     },
     "metadata": {
      "needs_background": "light"
     },
     "output_type": "display_data"
    }
   ],
   "source": [
    "plt.scatter(weather_py[\"Lat\"],weather_py[\"Humidity\"],edgecolors=\"black\",facecolors=\"green\")\n",
    "plt.title(\"City Latitude vs. Humidity (04/01/20)\")\n",
    "plt.xlabel(\"Latitude\")\n",
    "plt.ylabel(\"Humidity (%)\")\n",
    "plt.ylim(15,105)\n",
    "plt.grid (b=True,which=\"major\",axis=\"both\",linestyle=\"-\",color=\"lightgrey\")\n",
    "plt.savefig(\"Latitude vs. Humidity Plot.png\")\n",
    "plt.show()"
   ]
  },
  {
   "cell_type": "markdown",
   "metadata": {},
   "source": [
    "## Latitude vs. Cloudiness Plot"
   ]
  },
  {
   "cell_type": "code",
   "execution_count": 16,
   "metadata": {},
   "outputs": [
    {
     "data": {
      "image/png": "[encoded data removed]",
      "text/plain": [
       "<Figure size 432x288 with 1 Axes>"
      ]
     },
     "metadata": {
      "needs_background": "light"
     },
     "output_type": "display_data"
    }
   ],
   "source": [
    "plt.scatter(weather_py[\"Lat\"],weather_py[\"Cloudiness\"],edgecolors=\"black\",facecolors=\"blue\")\n",
    "plt.title(\"City Latitude vs. Cloudiness (04/01/20)\")\n",
    "plt.xlabel(\"Latitude\")\n",
    "plt.ylabel(\"Cloudiness (%)\")\n",
    "plt.grid (b=True,which=\"major\",axis=\"both\",linestyle=\"-\",color=\"lightgrey\")\n",
    "plt.savefig(\"Latitude vs. Cloudiness Plot.png\")\n",
    "plt.show()"
   ]
  },
  {
   "cell_type": "markdown",
   "metadata": {},
   "source": [
    "## Latitude vs. Wind Speed Plot"
   ]
  },
  {
   "cell_type": "code",
   "execution_count": 17,
   "metadata": {},
   "outputs": [
    {
     "data": {
      "image/png": "[encoded data removed]",
      "text/plain": [
       "<Figure size 432x288 with 1 Axes>"
      ]
     },
     "metadata": {
      "needs_background": "light"
     },
     "output_type": "display_data"
    }
   ],
   "source": [
    "plt.scatter(weather_py[\"Lat\"],weather_py[\"Wind Speed\"],edgecolors=\"black\",facecolors=\"blue\")\n",
    "plt.title(\"City Latitude vs. Wind Speed (04/01/20)\")\n",
    "plt.xlabel(\"Latitude\")\n",
    "plt.ylabel(\"Wind Speed (mph)\")\n",
    "plt.ylim(-2,34)\n",
    "plt.grid (b=True,which=\"major\",axis=\"both\",linestyle=\"-\",color=\"lightgrey\")\n",
    "plt.savefig(\"Latitude vs. Wind Speed.png\")\n",
    "plt.show()"
   ]
  },
  {
   "cell_type": "markdown",
   "metadata": {},
   "source": [
    "## Linear Regression"
   ]
  },
  {
   "cell_type": "code",
   "execution_count": 26,
   "metadata": {},
   "outputs": [],
   "source": [
    "# create variables for hemishpheres\n",
    "Northern_Hem= weather_py.loc[pd.to_numeric(weather_py[\"Lat\"]).astype(float) <0, :]\n",
    "Southern_Hem = weather_py.loc[pd.to_numeric(weather_py[\"Lat\"]).astype(float) >0, :]"
   ]
  },
  {
   "cell_type": "markdown",
   "metadata": {},
   "source": [
    "####  Northern Hemisphere - Max Temp vs. Latitude Linear Regression"
   ]
  },
  {
   "cell_type": "code",
   "execution_count": 27,
   "metadata": {},
   "outputs": [
    {
     "name": "stdout",
     "output_type": "stream",
     "text": [
      "The r-value is : 0.7735137938210428\n"
     ]
    },
    {
     "data": {
      "image/png": "[encoded data removed]",
      "text/plain": [
       "<Figure size 432x288 with 1 Axes>"
      ]
     },
     "metadata": {
      "needs_background": "light"
     },
     "output_type": "display_data"
    }
   ],
   "source": [
    "# create x and y values\n",
    "x=pd.to_numeric(Northern_Hem[\"Lat\"]).astype(float)\n",
    "y=pd.to_numeric(Northern_Hem[\"Max Temp\"]).astype(float)\n",
    "\n",
    "\n",
    "(slope, intercept, rvalue, pvalue, stderr) = linregress (x,y)\n",
    "\n",
    "# slope intercept formula\n",
    "slope_intercept = \"y = \" + str(round(slope,2)) + \"x + \" + str(round(intercept,2))\n",
    "r_value=x* slope + intercept\n",
    "\n",
    "\n",
    "\n",
    "# Plotting\n",
    "plt.scatter(x,y)\n",
    "plt.plot(x,r_value,\"r-\")\n",
    "plt.annotate(slope_intercept,(10,40), fontsize=10,color=\"red\")\n",
    "plt.xlabel(\"Latitude\")\n",
    "plt.ylabel(\"Max Temperature\")\n",
    "\n",
    "print(f\"The r-value is : {rvalue}\")\n",
    "\n",
    "plt.show()\n"
   ]
  },
  {
   "cell_type": "markdown",
   "metadata": {},
   "source": [
    "####  Southern Hemisphere - Max Temp vs. Latitude Linear Regression"
   ]
  },
  {
   "cell_type": "code",
   "execution_count": 31,
   "metadata": {},
   "outputs": [
    {
     "name": "stdout",
     "output_type": "stream",
     "text": [
      "The r-value is : -0.6353861590126827\n"
     ]
    },
    {
     "data": {
      "image/png": "[encoded data removed]",
      "text/plain": [
       "<Figure size 432x288 with 1 Axes>"
      ]
     },
     "metadata": {
      "needs_background": "light"
     },
     "output_type": "display_data"
    }
   ],
   "source": [
    "# create x and y values\n",
    "x=pd.to_numeric(Southern_Hem[\"Lat\"]).astype(float)\n",
    "y=pd.to_numeric(Southern_Hem[\"Max Temp\"]).astype(float)\n",
    "\n",
    "(slope, intercept, rvalue, pvalue, stderr) = linregress (x,y)\n",
    "\n",
    "\n",
    "# slope intercept formula\n",
    "slope_intercept = \"y = \" + str(round(slope,2)) + \"x + \" + str(round(intercept,2))\n",
    "r_value=x* slope + intercept\n",
    "\n",
    "\n",
    "\n",
    "# Plotting\n",
    "plt.scatter(x,y)\n",
    "plt.plot(x,r_value,\"r-\")\n",
    "plt.annotate(slope_intercept,(-30,30), fontsize=10,color=\"red\")\n",
    "plt.xlabel(\"Latitude\")\n",
    "plt.ylabel(\"Max Temperature\")\n",
    "\n",
    "print(f\"The r-value is : {rvalue}\")\n",
    "\n",
    "plt.show()"
   ]
  },
  {
   "cell_type": "markdown",
   "metadata": {},
   "source": [
    "####  Northern Hemisphere - Humidity (%) vs. Latitude Linear Regression"
   ]
  },
  {
   "cell_type": "code",
   "execution_count": 32,
   "metadata": {},
   "outputs": [
    {
     "name": "stdout",
     "output_type": "stream",
     "text": [
      "The r-value is : -0.6353861590126827\n"
     ]
    },
    {
     "data": {
      "image/png": "[encoded data removed]",
      "text/plain": [
       "<Figure size 432x288 with 1 Axes>"
      ]
     },
     "metadata": {
      "needs_background": "light"
     },
     "output_type": "display_data"
    }
   ],
   "source": [
    "# create x and y values\n",
    "x=pd.to_numeric(Northern_Hem[\"Lat\"]).astype(float)\n",
    "y=pd.to_numeric(Northern_Hem[\"Humidity\"]).astype(float)\n",
    "\n",
    "\n",
    "# slope intercept formula\n",
    "slope_intercept = \"y = \" + str(round(slope,2)) + \"x + \" + str(round(intercept,2))\n",
    "r_value=x* slope + intercept\n",
    "\n",
    "\n",
    "\n",
    "# Plotting\n",
    "plt.scatter(x,y)\n",
    "plt.plot(x,r_value,\"r-\")\n",
    "plt.annotate(slope_intercept,(10,20), fontsize=10,color=\"red\")\n",
    "plt.xlabel(\"Latitude\")\n",
    "plt.ylabel(\"Humidity\")\n",
    "\n",
    "print(f\"The r-value is : {rvalue}\")\n",
    "\n",
    "plt.show()"
   ]
  },
  {
   "cell_type": "markdown",
   "metadata": {},
   "source": [
    "####  Southern Hemisphere - Humidity (%) vs. Latitude Linear Regression"
   ]
  },
  {
   "cell_type": "code",
   "execution_count": 33,
   "metadata": {},
   "outputs": [
    {
     "name": "stdout",
     "output_type": "stream",
     "text": [
      "The r-value is : -0.6353861590126827\n"
     ]
    },
    {
     "data": {
      "image/png": "[encoded data removed]",
      "text/plain": [
       "<Figure size 432x288 with 1 Axes>"
      ]
     },
     "metadata": {
      "needs_background": "light"
     },
     "output_type": "display_data"
    }
   ],
   "source": [
    "# create x and y values\n",
    "x=pd.to_numeric(Southern_Hem[\"Lat\"]).astype(float)\n",
    "y=pd.to_numeric(Southern_Hem[\"Humidity\"]).astype(float)\n",
    "\n",
    "\n",
    "# slope intercept formula\n",
    "slope_intercept = \"y = \" + str(round(slope,2)) + \"x + \" + str(round(intercept,2))\n",
    "r_value=x* slope + intercept\n",
    "\n",
    "\n",
    "\n",
    "# Plotting\n",
    "plt.scatter(x,y)\n",
    "plt.plot(x,r_value,\"r-\")\n",
    "plt.annotate(slope_intercept,(-50,20), fontsize=10,color=\"red\")\n",
    "plt.xlabel(\"Latitude\")\n",
    "plt.ylabel(\"Humidity\")\n",
    "\n",
    "print(f\"The r-value is : {rvalue}\")\n",
    "\n",
    "plt.show()"
   ]
  },
  {
   "cell_type": "markdown",
   "metadata": {},
   "source": [
    "####  Northern Hemisphere - Cloudiness (%) vs. Latitude Linear Regression"
   ]
  },
  {
   "cell_type": "code",
   "execution_count": 34,
   "metadata": {},
   "outputs": [
    {
     "name": "stdout",
     "output_type": "stream",
     "text": [
      "The r-value is : -0.6353861590126827\n"
     ]
    },
    {
     "data": {
      "image/png": "[encoded data removed]",
      "text/plain": [
       "<Figure size 432x288 with 1 Axes>"
      ]
     },
     "metadata": {
      "needs_background": "light"
     },
     "output_type": "display_data"
    }
   ],
   "source": [
    "# create x and y values\n",
    "x=pd.to_numeric(Northern_Hem[\"Lat\"]).astype(float)\n",
    "y=pd.to_numeric(Northern_Hem[\"Cloudiness\"]).astype(float)\n",
    "\n",
    "\n",
    "# slope intercept formula\n",
    "slope_intercept = \"y = \" + str(round(slope,2)) + \"x + \" + str(round(intercept,2))\n",
    "r_value=x* slope + intercept\n",
    "\n",
    "\n",
    "\n",
    "# Plotting\n",
    "plt.scatter(x,y)\n",
    "plt.plot(x,r_value,\"r-\")\n",
    "plt.annotate(slope_intercept,(10,20), fontsize=10,color=\"red\")\n",
    "plt.xlabel(\"Latitude\")\n",
    "plt.ylabel(\"Cloudiness\")\n",
    "\n",
    "print(f\"The r-value is : {rvalue}\")\n",
    "\n",
    "plt.show()"
   ]
  },
  {
   "cell_type": "markdown",
   "metadata": {},
   "source": [
    "####  Southern Hemisphere - Cloudiness (%) vs. Latitude Linear Regression"
   ]
  },
  {
   "cell_type": "code",
   "execution_count": 36,
   "metadata": {},
   "outputs": [
    {
     "name": "stdout",
     "output_type": "stream",
     "text": [
      "The r-value is : -0.6353861590126827\n"
     ]
    },
    {
     "data": {
      "image/png": "[encoded data removed]",
      "text/plain": [
       "<Figure size 432x288 with 1 Axes>"
      ]
     },
     "metadata": {
      "needs_background": "light"
     },
     "output_type": "display_data"
    }
   ],
   "source": [
    "# create x and y values\n",
    "x=pd.to_numeric(Southern_Hem[\"Lat\"]).astype(float)\n",
    "y=pd.to_numeric(Southern_Hem[\"Cloudiness\"]).astype(float)\n",
    "\n",
    "\n",
    "# slope intercept formula\n",
    "slope_intercept = \"y = \" + str(round(slope,2)) + \"x + \" + str(round(intercept,2))\n",
    "r_value=x* slope + intercept\n",
    "\n",
    "\n",
    "\n",
    "# Plotting\n",
    "plt.scatter(x,y)\n",
    "plt.plot(x,r_value,\"r-\")\n",
    "plt.annotate(slope_intercept,(-50,20), fontsize=10,color=\"red\")\n",
    "plt.xlabel(\"Latitude\")\n",
    "plt.ylabel(\"Cloudiness\")\n",
    "\n",
    "print(f\"The r-value is : {rvalue}\")\n",
    "\n",
    "plt.show()"
   ]
  },
  {
   "cell_type": "markdown",
   "metadata": {},
   "source": [
    "####  Northern Hemisphere - Wind Speed (mph) vs. Latitude Linear Regression"
   ]
  },
  {
   "cell_type": "code",
   "execution_count": 37,
   "metadata": {},
   "outputs": [
    {
     "name": "stdout",
     "output_type": "stream",
     "text": [
      "The r-value is : -0.6353861590126827\n"
     ]
    },
    {
     "data": {
      "image/png": "[encoded data removed]",
      "text/plain": [
       "<Figure size 432x288 with 1 Axes>"
      ]
     },
     "metadata": {
      "needs_background": "light"
     },
     "output_type": "display_data"
    }
   ],
   "source": [
    "# create x and y values\n",
    "x=pd.to_numeric(Northern_Hem[\"Lat\"]).astype(float)\n",
    "y=pd.to_numeric(Northern_Hem[\"Wind Speed\"]).astype(float)\n",
    "\n",
    "\n",
    "# slope intercept formula\n",
    "slope_intercept = \"y = \" + str(round(slope,2)) + \"x + \" + str(round(intercept,2))\n",
    "r_value=x* slope + intercept\n",
    "\n",
    "\n",
    "\n",
    "# Plotting\n",
    "plt.scatter(x,y)\n",
    "plt.plot(x,r_value,\"r-\")\n",
    "plt.annotate(slope_intercept,(-50,20), fontsize=10,color=\"red\")\n",
    "plt.xlabel(\"Latitude\")\n",
    "plt.ylabel(\"Wind Speed\")\n",
    "\n",
    "print(f\"The r-value is : {rvalue}\")\n",
    "\n",
    "plt.show()"
   ]
  },
  {
   "cell_type": "markdown",
   "metadata": {},
   "source": [
    "####  Southern Hemisphere - Wind Speed (mph) vs. Latitude Linear Regression"
   ]
  },
  {
   "cell_type": "code",
   "execution_count": 39,
   "metadata": {},
   "outputs": [
    {
     "name": "stdout",
     "output_type": "stream",
     "text": [
      "The r-value is : -0.6353861590126827\n"
     ]
    },
    {
     "data": {
      "image/png": "[encoded data removed]",
      "text/plain": [
       "<Figure size 432x288 with 1 Axes>"
      ]
     },
     "metadata": {
      "needs_background": "light"
     },
     "output_type": "display_data"
    }
   ],
   "source": [
    "# create x and y values\n",
    "x=pd.to_numeric(Southern_Hem[\"Lat\"]).astype(float)\n",
    "y=pd.to_numeric(Southern_Hem[\"Wind Speed\"]).astype(float)\n",
    "\n",
    "\n",
    "# slope intercept formula\n",
    "slope_intercept = \"y = \" + str(round(slope,2)) + \"x + \" + str(round(intercept,2))\n",
    "r_value=x* slope + intercept\n",
    "\n",
    "\n",
    "\n",
    "# Plotting\n",
    "plt.scatter(x,y)\n",
    "plt.plot(x,r_value,\"r-\")\n",
    "plt.annotate(slope_intercept,(-50,20), fontsize=10,color=\"red\")\n",
    "plt.xlabel(\"Latitude\")\n",
    "plt.ylabel(\"Wind Speed\")\n",
    "\n",
    "print(f\"The r-value is : {rvalue}\")\n",
    "\n",
    "plt.show()"
   ]
  },
  {
   "cell_type": "code",
   "execution_count": null,
   "metadata": {},
   "outputs": [],
   "source": []
  }
 ],
 "metadata": {
  "anaconda-cloud": {},
  "kernel_info": {
   "name": "python3"
  },
  "kernelspec": {
   "display_name": "Python 3",
   "language": "python",
   "name": "python3"
  },
  "language_info": {
   "codemirror_mode": {
    "name": "ipython",
    "version": 3
   },
   "file_extension": ".py",
   "mimetype": "text/x-python",
   "name": "python",
   "nbconvert_exporter": "python",
   "pygments_lexer": "ipython3",
   "version": "3.8.8"
  },
  "latex_envs": {
   "LaTeX_envs_menu_present": true,
   "autoclose": false,
   "autocomplete": true,
   "bibliofile": "biblio.bib",
   "cite_by": "apalike",
   "current_citInitial": 1,
   "eqLabelWithNumbers": true,
   "eqNumInitial": 1,
   "hotkeys": {
    "equation": "Ctrl-E",
    "itemize": "Ctrl-I"
   },
   "labels_anchors": false,
   "latex_user_defs": false,
   "report_style_numbering": false,
   "user_envs_cfg": false
  },
  "nteract": {
   "version": "0.12.3"
  }
 },
 "nbformat": 4,
 "nbformat_minor": 2
}
